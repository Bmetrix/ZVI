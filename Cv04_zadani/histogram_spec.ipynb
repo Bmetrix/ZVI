{
 "metadata": {
  "language_info": {
   "codemirror_mode": {
    "name": "ipython",
    "version": 3
   },
   "file_extension": ".py",
   "mimetype": "text/x-python",
   "name": "python",
   "nbconvert_exporter": "python",
   "pygments_lexer": "ipython3",
   "version": "3.6.9-final"
  },
  "orig_nbformat": 2,
  "kernelspec": {
   "name": "python3",
   "display_name": "Python 3.6.9 64-bit",
   "metadata": {
    "interpreter": {
     "hash": "31f2aee4e71d21fbe5cf8b01ff0e069b9275f58929596ceb00d14d90e3e16cd6"
    }
   }
  }
 },
 "nbformat": 4,
 "nbformat_minor": 2,
 "cells": [
  {
   "cell_type": "code",
   "execution_count": null,
   "metadata": {},
   "outputs": [],
   "source": [
    "import cv2\n",
    "import numpy as np\n",
    "from matplotlib import pyplot as plt\n",
    "\n",
    "img = cv2.imread('nebula.png', cv2.IMREAD_GRAYSCALE)\n",
    "plt.imshow(img, cmap='gray')"
   ]
  },
  {
   "cell_type": "code",
   "execution_count": null,
   "metadata": {},
   "outputs": [],
   "source": [
    "'''\n",
    "create histogram using opencv\n",
    "check its shape\n",
    "'''\n",
    "hist = cv2.calcHist([img], [0], None, [256], [0,255])\n",
    "print (hist.shape)\n",
    "hist = np.reshape(hist, (hist.shape[0], ))\n",
    "hist /= img.shape[0]*img.shape[1]\n",
    "print (hist.shape)\n",
    "plt.plot(hist,color = 'blue')\n",
    "plt.xlim([0,256])\n",
    "plt.show()"
   ]
  },
  {
   "cell_type": "code",
   "execution_count": null,
   "metadata": {},
   "outputs": [],
   "source": [
    "'''\n",
    "prepare cumulative histogram\n",
    "'''\n",
    "\n",
    "\n",
    "plt.plot(hist_sum,color = 'blue')\n",
    "plt.xlim([0,256])\n",
    "plt.show()\n",
    " "
   ]
  },
  {
   "cell_type": "code",
   "execution_count": null,
   "metadata": {},
   "outputs": [],
   "source": [
    "def gauss(x, sigma, mean):\n",
    "    val = 1/(sigma*np.sqrt(2*np.pi))\n",
    "    val *= np.exp(-0.5*((x-mean)/sigma* (x-mean)/sigma))\n",
    "    return val"
   ]
  },
  {
   "cell_type": "code",
   "execution_count": null,
   "metadata": {},
   "outputs": [],
   "source": [
    "target_hist = np.zeros(hist.shape)\n",
    "for i in range(0, 256):\n",
    "\ttarget_hist[i] = gauss(i/255, 0.1, 0.3)/255\n",
    "\n",
    "print (np.sum(target_hist))\n",
    "plt.plot(target_hist,color = 'blue')\n",
    "plt.xlim([0,256])\n",
    "plt.show()\n",
    "\n",
    " "
   ]
  },
  {
   "cell_type": "code",
   "execution_count": null,
   "metadata": {},
   "outputs": [],
   "source": [
    "'''\n",
    "cumulative taret histogram\n",
    "'''\n",
    "target_hist_sum = np.zeros(hist.shape)\n",
    "\n",
    "plt.plot(target_hist_sum,color = 'blue')\n",
    "plt.xlim([0,256])\n",
    "plt.show()"
   ]
  },
  {
   "cell_type": "code",
   "execution_count": null,
   "metadata": {},
   "outputs": [],
   "source": [
    "'''\n",
    "prepare lookup table for mapping\n",
    "'''\n",
    "mapping = np.zeros(hist.shape)\n",
    "\n",
    "\n",
    "print (mapping[:10], mapping[-10:]) "
   ]
  },
  {
   "cell_type": "code",
   "execution_count": null,
   "metadata": {},
   "outputs": [],
   "source": [
    "'''\n",
    "remap the image\n",
    "'''\n",
    "new_img = np.zeros(img.shape, img.dtype)\n",
    "\n",
    "\n",
    "plt.imshow(new_img, cmap='gray')\n",
    "\n"
   ]
  },
  {
   "cell_type": "code",
   "execution_count": null,
   "metadata": {},
   "outputs": [],
   "source": [
    "'''\n",
    "check resulting histogram\n",
    "'''\n",
    "hist = cv2.calcHist([new_img], [0], None, [256], [0,255])\n",
    "print (hist.shape)\n",
    "hist = np.reshape(hist, (hist.shape[0], ))\n",
    "hist /= img.shape[0]*img.shape[1]\n",
    "print (hist.shape)\n",
    "plt.plot(hist,color = 'blue')\n",
    "plt.xlim([0,256])\n",
    "plt.show()"
   ]
  },
  {
   "cell_type": "code",
   "execution_count": null,
   "metadata": {},
   "outputs": [],
   "source": []
  }
 ]
}