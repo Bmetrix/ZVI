{
 "metadata": {
  "language_info": {
   "codemirror_mode": {
    "name": "ipython",
    "version": 3
   },
   "file_extension": ".py",
   "mimetype": "text/x-python",
   "name": "python",
   "nbconvert_exporter": "python",
   "pygments_lexer": "ipython3",
   "version": 3
  },
  "orig_nbformat": 2
 },
 "nbformat": 4,
 "nbformat_minor": 2,
 "cells": [
  {
   "cell_type": "code",
   "execution_count": null,
   "metadata": {},
   "outputs": [],
   "source": [
    "import cv2\n",
    "import numpy as np\n",
    "from matplotlib import pyplot as plt\n",
    "\n",
    "img = cv2.imread(\"ascher_small.png\", cv2.IMREAD_GRAYSCALE)\n",
    "neg = cv2.bitwise_not(img)\n",
    "\n",
    "def visualizeHistogram(histogram):\n",
    "    hist = np.zeros((500, histogram.shape[0]))\n",
    "    ratio = 500/np.max(histogram)\n",
    "    for i in range(histogram.shape[0]):\n",
    "        hist[0:int(histogram[i]*ratio),i] = 255\n",
    "    return np.flip(hist)"
   ]
  },
  {
   "cell_type": "code",
   "execution_count": null,
   "metadata": {},
   "outputs": [],
   "source": [
    "\n",
    "\n",
    "visu = cv2.cvtColor(cv2.bitwise_not(img), cv2.COLOR_GRAY2BGR)"
   ]
  }
 ]
}