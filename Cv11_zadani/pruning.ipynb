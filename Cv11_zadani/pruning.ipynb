{
 "metadata": {
  "language_info": {
   "codemirror_mode": {
    "name": "ipython",
    "version": 3
   },
   "file_extension": ".py",
   "mimetype": "text/x-python",
   "name": "python",
   "nbconvert_exporter": "python",
   "pygments_lexer": "ipython3",
   "version": 3
  },
  "orig_nbformat": 2
 },
 "nbformat": 4,
 "nbformat_minor": 2,
 "cells": [
  {
   "cell_type": "code",
   "execution_count": null,
   "metadata": {},
   "outputs": [],
   "source": [
    "import cv2\n",
    "import numpy as np\n",
    "from matplotlib import pyplot as plt\n",
    "\n",
    "img = cv2.imread(\"skeleton.png\")\n",
    "plt.imshow(skeleton, cmap='gray')\n",
    "\n"
   ]
  },
  {
   "cell_type": "code",
   "execution_count": null,
   "metadata": {},
   "outputs": [],
   "source": [
    "'''\n",
    "prepare structuring elements\n",
    "'''\n",
    "b = []\n",
    "b.append(np.array([[0, -1, -1], [1, 1, -1], [0, -1, -1]]))\n",
    "b.append(np.array([[0, 1, 0], [-1, 1, -1], [-1, -1, -1]]))\n",
    "b.append(np.flip(bs[0], 1))\n",
    "b.append(np.flip(bs[1], 0))\n",
    "b.append(np.array([[1, -1, -1], [-1, 1, -1], [-1, -1, -1]]))\n",
    "b.append(np.flip(bs[4], 1))\n",
    "b.append(np.flip(bs[4]))\n",
    "b.append(np.flip(bs[4], 0))"
   ]
  },
  {
   "cell_type": "code",
   "execution_count": null,
   "metadata": {},
   "outputs": [],
   "source": [
    "'''\n",
    "Iteratively apply hit-miss transform on \n",
    "'''\n",
    "\n",
    "\n",
    "\n",
    "\n"
   ]
  },
  {
   "cell_type": "code",
   "execution_count": null,
   "metadata": {},
   "outputs": [],
   "source": [
    "'''\n",
    "reconstruct ebds of lines shortened in previous step\n",
    "1. find endpoints\n",
    "2. dilate endpoints and compute and with skeleton\n",
    "'''\n",
    "\n",
    "\n"
   ]
  },
  {
   "cell_type": "code",
   "execution_count": null,
   "metadata": {},
   "outputs": [],
   "source": []
  }
 ]
}