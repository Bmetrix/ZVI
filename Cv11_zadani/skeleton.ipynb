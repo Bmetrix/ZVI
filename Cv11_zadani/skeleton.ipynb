{
 "metadata": {
  "language_info": {
   "codemirror_mode": {
    "name": "ipython",
    "version": 3
   },
   "file_extension": ".py",
   "mimetype": "text/x-python",
   "name": "python",
   "nbconvert_exporter": "python",
   "pygments_lexer": "ipython3",
   "version": "3.6.9-final"
  },
  "orig_nbformat": 2,
  "kernelspec": {
   "name": "python3",
   "display_name": "Python 3.6.9 64-bit",
   "metadata": {
    "interpreter": {
     "hash": "31f2aee4e71d21fbe5cf8b01ff0e069b9275f58929596ceb00d14d90e3e16cd6"
    }
   }
  }
 },
 "nbformat": 4,
 "nbformat_minor": 2,
 "cells": [
  {
   "cell_type": "code",
   "execution_count": null,
   "metadata": {},
   "outputs": [],
   "source": [
    "import cv2\n",
    "import numpy as np\n",
    "from matplotlib import pyplot as plt\n",
    "\n",
    "img = cv2.imread(\"10.png\", cv2.IMREAD_GRAYSCALE)\n",
    "plt.imshow(img, cmap='gray')\n",
    "\n",
    "\n"
   ]
  },
  {
   "cell_type": "code",
   "execution_count": null,
   "metadata": {},
   "outputs": [],
   "source": [
    "'''\n",
    "Compute skeleton by morphology\n",
    "1. Starting off with an empty skeleton.\n",
    "2. Computing the opening of the original image. Let’s call this open.\n",
    "3. Substracting open from the original image. Let’s call this temp.\n",
    "4. Eroding the original image and refining the skeleton by computing the union of the current skeleton and temp.\n",
    "5. Repeat Steps 2–4 till the original image is completely eroded.\n",
    "\n",
    "'''\n",
    "\n",
    "skeleton = np.zeros(img.shape,np.uint8)\n",
    "k = cv2.getStructuringElement(cv2.MORPH_CROSS,(3,3))\n",
    "\n",
    "\n",
    "    \n",
    "plt.imshow(skeleton, cmap='gray')\n",
    "cv2.imwrite(\"skeleton.png\", skeleton)\n"
   ]
  },
  {
   "cell_type": "code",
   "execution_count": null,
   "metadata": {},
   "outputs": [],
   "source": []
  }
 ]
}