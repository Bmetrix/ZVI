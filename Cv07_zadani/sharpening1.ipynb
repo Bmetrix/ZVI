{
 "cells": [
  {
   "cell_type": "code",
   "execution_count": null,
   "metadata": {},
   "outputs": [],
   "source": [
    "import cv2\n",
    "import numpy as np\n",
    "from matplotlib import pyplot as plt\n",
    "\n",
    "\n",
    "img = cv2.imread(\"photographer.png\", cv2.IMREAD_GRAYSCALE)\n",
    "plt.imshow(img, cmap='gray')\n",
    "\n",
    "'''\n",
    "Prepare simple kernels for differences in x and y directions\n",
    "'''\n",
    "kernelX = np.ones((2,1))\n",
    "kernelX[0,0] = -1\n",
    "kernelY = np.ones((1,2))\n",
    "kernelY[0,0] = -1\n",
    "\n",
    "'''\n",
    "Apply the filters by convolutional operator\n",
    "'''\n",
    "edgesX = cv2.filter2D(img, -1, kernelX)\n",
    "edgesY = cv2.filter2D(img, -1, kernelY)\n",
    "plt.imshow(edgesY, cmap='gray')"
   ]
  },
  {
   "cell_type": "code",
   "execution_count": null,
   "metadata": {},
   "outputs": [],
   "source": [
    "'''\n",
    "Apply Scharr filter\n",
    "'''\n",
    "\n",
    "\n",
    "plt.imshow(edgesX, cmap='gray')"
   ]
  },
  {
   "cell_type": "code",
   "execution_count": null,
   "metadata": {},
   "outputs": [],
   "source": [
    "'''\n",
    "Manualy construct laplacian filter\n",
    "central pixel is 9 instead of 8 -> results in sharpening of the image\n",
    "'''\n"
   ]
  },
  {
   "cell_type": "code",
   "execution_count": null,
   "metadata": {},
   "outputs": [],
   "source": [
    "'''\n",
    "Apply Gussian filter for image smoothing - removing sharp changes of contrast = blurring\n",
    "'''\n",
    "\n",
    "\n",
    "plt.imshow(res, cmap='gray')\n"
   ]
  },
  {
   "cell_type": "code",
   "execution_count": null,
   "metadata": {},
   "outputs": [],
   "source": [
    "'''\n",
    "Subtract the smoothed version from the original\n",
    "'''\n",
    "\n",
    "\n",
    "plt.imshow(sharp, cmap='gray')\n"
   ]
  },
  {
   "cell_type": "code",
   "execution_count": null,
   "metadata": {},
   "outputs": [],
   "source": [
    "'''\n",
    "Canny detector\n",
    "'''\n",
    "res = cv2.Canny(img, 100, 200)\n",
    "plt.imshow(res, cmap='gray')"
   ]
  },
  {
   "cell_type": "code",
   "execution_count": null,
   "metadata": {},
   "outputs": [],
   "source": []
  }
 ],
 "metadata": {
  "kernelspec": {
   "display_name": "Python 3.6.9 64-bit",
   "metadata": {
    "interpreter": {
     "hash": "31f2aee4e71d21fbe5cf8b01ff0e069b9275f58929596ceb00d14d90e3e16cd6"
    }
   },
   "name": "python3"
  },
  "language_info": {
   "codemirror_mode": {
    "name": "ipython",
    "version": 3
   },
   "file_extension": ".py",
   "mimetype": "text/x-python",
   "name": "python",
   "nbconvert_exporter": "python",
   "pygments_lexer": "ipython3",
   "version": "3.8.10"
  },
  "orig_nbformat": 2
 },
 "nbformat": 4,
 "nbformat_minor": 2
}
