{
 "cells": [
  {
   "cell_type": "code",
   "execution_count": null,
   "metadata": {},
   "outputs": [
    {
     "ename": "",
     "evalue": "",
     "output_type": "error",
     "traceback": [
      "\u001b[1;31mFailed to start the Kernel. \n",
      "\u001b[1;31mJupyter server crashed. Unable to connect. \n",
      "\u001b[1;31mError code from Jupyter: 1\n",
      "\u001b[1;31musage: jupyter.py [-h] [--version] [--config-dir] [--data-dir] [--runtime-dir]\n",
      "\u001b[1;31m                  [--paths] [--json] [--debug]\n",
      "\u001b[1;31m                  [subcommand]\n",
      "\u001b[1;31m\n",
      "\u001b[1;31mJupyter: Interactive Computing\n",
      "\u001b[1;31m\n",
      "\u001b[1;31mpositional arguments:\n",
      "\u001b[1;31m  subcommand     the subcommand to launch\n",
      "\u001b[1;31m\n",
      "\u001b[1;31moptional arguments:\n",
      "\u001b[1;31m  -h, --help     show this help message and exit\n",
      "\u001b[1;31m  --version      show the versions of core jupyter packages and exit\n",
      "\u001b[1;31m  --config-dir   show Jupyter config dir\n",
      "\u001b[1;31m  --data-dir     show Jupyter data dir\n",
      "\u001b[1;31m  --runtime-dir  show Jupyter runtime dir\n",
      "\u001b[1;31m  --paths        show all Jupyter paths. Add --json for machine-readable\n",
      "\u001b[1;31m                 format.\n",
      "\u001b[1;31m  --json         output paths as machine-readable json\n",
      "\u001b[1;31m  --debug        output debug information about paths\n",
      "\u001b[1;31m\n",
      "\u001b[1;31mAvailable subcommands: console fileid lab labextension labhub qtconsole\n",
      "\u001b[1;31m\n",
      "\u001b[1;31mJupyter command `jupyter-notebook` not found. \n",
      "\u001b[1;31mView Jupyter <a href='command:jupyter.viewOutput'>log</a> for further details."
     ]
    }
   ],
   "source": [
    "import cv2\n",
    "import matplotlib.pyplot as plt\n",
    "import numpy as np\n",
    "\n",
    "'''\n",
    "read the image in grayscale and display it\n",
    "'''\n",
    "img = cv2.imread(\"dvojka.png\", cv2.IMREAD_GRAYSCALE)\n",
    "plt.imshow(img, cmap='gray')\n"
   ]
  },
  {
   "cell_type": "code",
   "execution_count": null,
   "metadata": {},
   "outputs": [],
   "source": [
    "def getStart():\n",
    "   '''\n",
    "   TODO - complete the method for detecting the first border point\n",
    "   '''\n",
    "\n",
    "   start = [0, 0]\n",
    "   while img[start[0], start[1]] != 0:\n",
    "      start[1] += 1\n",
    "      if start[1] == img.shape[1]:\n",
    "         start[1] = 0\n",
    "         start[0] += 1\n",
    "\n",
    "   return start"
   ]
  },
  {
   "cell_type": "code",
   "execution_count": null,
   "metadata": {},
   "outputs": [],
   "source": [
    "start = getStart()\n",
    "\n",
    "'''\n",
    "TODO - draw the start point into the original image and display it\n",
    "'''\n",
    "\n",
    "img[start[0], start[1]] = 127\n",
    "plt.imshow(img, cmap='gray')\n"
   ]
  },
  {
   "cell_type": "code",
   "execution_count": null,
   "metadata": {},
   "outputs": [],
   "source": [
    "'''\n",
    "returns neigbouring point in a given direction\n",
    "'''\n",
    "def getNext(point, direction):\n",
    "    next = point.copy()\n",
    "    '''\n",
    "    TODO - change point coordinates according to the direction\n",
    "    '''\n",
    "\n",
    "    if direction == 0:\n",
    "        next[1] += 1\n",
    "    if direction == 1:\n",
    "        next[0] -= 1\n",
    "    if direction == 2:\n",
    "        next[1] -= 1\n",
    "    if direction == 3:\n",
    "        next[0]\n",
    "\n",
    "    return next "
   ]
  },
  {
   "cell_type": "code",
   "execution_count": null,
   "metadata": {},
   "outputs": [],
   "source": [
    "borderPoints = []\n",
    "borderPoints.append(start)\n",
    "aktPoint = start.copy()\n",
    "\n",
    "print (aktPoint)\n",
    "\n",
    "end = False\n",
    "smer = 3\n",
    "while not end:\n",
    "    '''\n",
    "    TODO - complete the inside of the while cycle\n",
    "    '''\n",
    "    aktPoint = getNext(aktPoint, smer)\n",
    "    if(borderPoints[0] == aktPoint):\n",
    "        break\n",
    "    else:\n",
    "        borderPoints.append(aktPoint)\n",
    "\n",
    "    smer = (smer * 3) % 4\n",
    "\n",
    "print (borderPoints)\n",
    "\n",
    "for p in borderPoints:\n",
    "    img[p[0], p[1]] = 127\n",
    "\n",
    "plt.imshow(img)\n",
    "print (\"Border length:\", len(borderPoints))"
   ]
  }
 ],
 "metadata": {
  "kernelspec": {
   "display_name": "Python 3",
   "language": "python",
   "name": "python3"
  },
  "language_info": {
   "codemirror_mode": {
    "name": "ipython",
    "version": 3
   },
   "file_extension": ".py",
   "mimetype": "text/x-python",
   "name": "python",
   "nbconvert_exporter": "python",
   "pygments_lexer": "ipython3",
   "version": "3.10.6"
  },
  "orig_nbformat": 2,
  "vscode": {
   "interpreter": {
    "hash": "b0fa6594d8f4cbf19f97940f81e996739fb7646882a419484c72d19e05852a7e"
   }
  }
 },
 "nbformat": 4,
 "nbformat_minor": 2
}
