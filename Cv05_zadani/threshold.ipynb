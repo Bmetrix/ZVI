{
 "metadata": {
  "language_info": {
   "codemirror_mode": {
    "name": "ipython",
    "version": 3
   },
   "file_extension": ".py",
   "mimetype": "text/x-python",
   "name": "python",
   "nbconvert_exporter": "python",
   "pygments_lexer": "ipython3",
   "version": "3.6.9-final"
  },
  "orig_nbformat": 2,
  "kernelspec": {
   "name": "python3",
   "display_name": "Python 3.6.9 64-bit",
   "metadata": {
    "interpreter": {
     "hash": "31f2aee4e71d21fbe5cf8b01ff0e069b9275f58929596ceb00d14d90e3e16cd6"
    }
   }
  }
 },
 "nbformat": 4,
 "nbformat_minor": 2,
 "cells": [
  {
   "cell_type": "code",
   "execution_count": null,
   "metadata": {},
   "outputs": [],
   "source": [
    "import cv2\n",
    "import numpy as np\n",
    "from matplotlib import pyplot as plt\n",
    "from skimage.filters import (threshold_otsu, threshold_niblack,\n",
    "                             threshold_sauvola)\n",
    "\n",
    "img = cv2.imread(\"son1.jpg\", cv2.IMREAD_GRAYSCALE)\n",
    "\n",
    "hist = cv2.calcHist([img], [0], None, [256], [0,255])\n",
    "hist = np.reshape(hist, (hist.shape[0],))\n",
    "hist /= img.shape[0]*img.shape[1] \n",
    "\n",
    "print (hist.shape)\n",
    "plt.plot(hist,color = 'b')\n",
    "\n",
    "plt.xlim([0,256])\n",
    "plt.show()"
   ]
  },
  {
   "cell_type": "code",
   "execution_count": null,
   "metadata": {},
   "outputs": [],
   "source": [
    "thresh = 127\n",
    "#img[img < thresh] = 0\n",
    "#img[img > 0] = 255\n",
    "\n",
    "plt.imshow(img, cmap='gray')"
   ]
  },
  {
   "cell_type": "code",
   "execution_count": null,
   "metadata": {},
   "outputs": [],
   "source": [
    "th, thresholded = cv2.threshold(img, 127, 255, cv2.THRESH_BINARY_INV+cv2.THRESH_OTSU)\n",
    "plt.imshow(thresholded, cmap='gray')\n",
    "print (\"threshold:\", th)\n",
    "cv2.imwrite(\"th.png\", thresholded)\n"
   ]
  },
  {
   "cell_type": "code",
   "execution_count": null,
   "metadata": {},
   "outputs": [],
   "source": [
    "window_size = 51\n",
    "thresh_sauvola = threshold_sauvola(img, window_size=window_size)\n",
    "binary_sauvola = img > thresh_sauvola\n",
    "binary_sauvola = binary_sauvola.astype(np.uint8)\n",
    "binary_sauvola[binary_sauvola > 0] = 255\n",
    "\n",
    "print (binary_sauvola.shape, binary_sauvola.dtype)\n",
    "\n",
    "cv2.imwrite(\"thresholded.jpg\", binary_sauvola.astype(np.uint8))\n",
    "\n",
    "\n",
    "cv2.threshold(img, 127, 255, cv2.THRESH_BINARY)"
   ]
  },
  {
   "cell_type": "code",
   "execution_count": null,
   "metadata": {},
   "outputs": [],
   "source": []
  }
 ]
}